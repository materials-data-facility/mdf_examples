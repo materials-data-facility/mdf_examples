{
 "cells": [
  {
   "cell_type": "code",
   "execution_count": 3,
   "metadata": {},
   "outputs": [],
   "source": [
    "from mdf_forge import Forge\n",
    "import pandas as pd\n",
    "\n",
    "import matplotlib.pyplot as plt\n",
    "import seaborn as sns\n",
    "%matplotlib inline"
   ]
  },
  {
   "cell_type": "markdown",
   "metadata": {},
   "source": [
    "# Helper Functions"
   ]
  },
  {
   "cell_type": "code",
   "execution_count": 2,
   "metadata": {},
   "outputs": [],
   "source": [
    "import collections\n",
    "\n",
    "def flatten(d, parent_key='', sep='_'):\n",
    "    items = []\n",
    "    for k, v in d.items():\n",
    "        new_key = parent_key + sep + k if parent_key else k\n",
    "        if isinstance(v, collections.MutableMapping):\n",
    "            items.extend(flatten(v, new_key, sep=sep).items())\n",
    "        else:\n",
    "            items.append((new_key, v))\n",
    "    return dict(items)\n",
    "\n",
    "def shape_data(res):\n",
    "    features = []\n",
    "    for r in res:\n",
    "        feat = {}\n",
    "        feat.update(r['projects']['verde'])\n",
    "        feat.update(r['molecule'])\n",
    "        features.append(flatten(feat))\n",
    "    return pd.DataFrame(features)"
   ]
  },
  {
   "cell_type": "markdown",
   "metadata": {},
   "source": [
    "# Instantiate Forge Client"
   ]
  },
  {
   "cell_type": "code",
   "execution_count": 9,
   "metadata": {},
   "outputs": [],
   "source": [
    "mdf = Forge()"
   ]
  },
  {
   "cell_type": "code",
   "execution_count": 10,
   "metadata": {},
   "outputs": [
    {
     "data": {
      "text/plain": [
       "\u001b[0;31mInit signature:\u001b[0m \u001b[0mForge\u001b[0m\u001b[0;34m(\u001b[0m\u001b[0mindex\u001b[0m\u001b[0;34m=\u001b[0m\u001b[0;34m'mdf'\u001b[0m\u001b[0;34m,\u001b[0m \u001b[0mlocal_ep\u001b[0m\u001b[0;34m=\u001b[0m\u001b[0;32mNone\u001b[0m\u001b[0;34m,\u001b[0m \u001b[0manonymous\u001b[0m\u001b[0;34m=\u001b[0m\u001b[0;32mFalse\u001b[0m\u001b[0;34m,\u001b[0m \u001b[0mclear_old_tokens\u001b[0m\u001b[0;34m=\u001b[0m\u001b[0;32mFalse\u001b[0m\u001b[0;34m,\u001b[0m \u001b[0;34m**\u001b[0m\u001b[0mkwargs\u001b[0m\u001b[0;34m)\u001b[0m\u001b[0;34m\u001b[0m\u001b[0;34m\u001b[0m\u001b[0m\n",
       "\u001b[0;31mDocstring:\u001b[0m     \n",
       "Forge fetches metadata and files from the Materials Data Facility.\n",
       "Forge is intended to be the best way to access MDF data for all users.\n",
       "An internal Query object is used to make queries. From the user's perspective,\n",
       "an instantiation of Forge will black-box searching.\n",
       "\u001b[0;31mInit docstring:\u001b[0m\n",
       "Create an MDF Forge Client.\n",
       "\n",
       "Arguments:\n",
       "    index (str): The Search index to search on. **Default:** ``\"mdf\"``.\n",
       "    local_ep (str): The endpoint ID of the local Globus Connect Personal endpoint.\n",
       "            If needed but not provided, the local endpoint will be autodetected\n",
       "            if possible.\n",
       "    anonymous (bool): If ``True``, will not authenticate with Globus Auth.\n",
       "            If ``False``, will require authentication.\n",
       "            **Default:** ``False``.\n",
       "\n",
       "            Caution:\n",
       "                Authentication is required for some Forge functionality,\n",
       "                including viewing private datasets and using Globus Transfer.\n",
       "\n",
       "    clear_old_tokens (bool): If ``True``, will force reauthentication.\n",
       "            If ``False``, will use existing tokens if possible.\n",
       "            Has no effect if ``anonymous`` is ``True``.\n",
       "            **Default:** ``False``.\n",
       "\n",
       "Keyword Arguments:\n",
       "    services (list of str): *Advanced users only.* The services to authenticate with,\n",
       "            using Toolbox. An empty list will disable authenticating with Toolbox.\n",
       "            Note that even overwriting clients (with other keyword arguments)\n",
       "            does not stop Toolbox authentication. Only a blank ``services`` argument\n",
       "            will disable Toolbox authentication.\n",
       "    search_client (globus_sdk.SearchClient): An authenticated SearchClient\n",
       "            to overwrite the default.\n",
       "    transfer_client (globus_sdk.TransferClient): An authenticated TransferClient\n",
       "            to override the default.\n",
       "    data_mdf_authorizer (globus_sdk.GlobusAuthorizer): An authenticated GlobusAuthorizer\n",
       "            to overwrite the default for accessing the MDF NCSA endpoint.\n",
       "    petrel_authorizer (globus_sdk.GlobusAuthorizer): An authenticated GlobusAuthorizer\n",
       "            to override the default.\n",
       "\u001b[0;31mFile:\u001b[0m           ~/miniconda3/envs/rdkit/lib/python3.6/site-packages/mdf_forge/forge.py\n",
       "\u001b[0;31mType:\u001b[0m           type\n"
      ]
     },
     "metadata": {},
     "output_type": "display_data"
    }
   ],
   "source": [
    "?Forge"
   ]
  },
  {
   "cell_type": "markdown",
   "metadata": {},
   "source": [
    "# Match All VERDE Records"
   ]
  },
  {
   "cell_type": "code",
   "execution_count": 11,
   "metadata": {},
   "outputs": [],
   "source": [
    "res = mdf.match_resource_types(\"record\")\n",
    "res = res.match_source_names(\"abrehabiruk_virtual_db\")\n",
    "res = res.search()"
   ]
  },
  {
   "cell_type": "markdown",
   "metadata": {},
   "source": [
    "# Inspect the Metadata for One Record"
   ]
  },
  {
   "cell_type": "code",
   "execution_count": 12,
   "metadata": {},
   "outputs": [
    {
     "data": {
      "text/plain": [
       "{'files': [{'data_type': 'ASCII text',\n",
       "   'filename': 'GKVDXUXIAHWQIK-UHFFFAOYSA-N_cat-rad_vac_freq.log',\n",
       "   'globus': 'globus://82f1b5c6-6e9b-11e5-ba47-22000b92c6ec/verde/abrehabiruk_virtual_db_v1.1/verde_calcs.tar/GKVDXUXIAHWQIK-UHFFFAOYSA-N/GKVDXUXIAHWQIK-UHFFFAOYSA-N_cat-rad_vac_freq.log',\n",
       "   'length': 62551,\n",
       "   'mime_type': 'text/plain',\n",
       "   'sha512': '412cb4474716f7c2364e3b88f9605c8c04c9d942ff26ca14e98443b9e56e383dbe15fa4aa800ed650c89d8ce4eddd129a370f1a9bd35b07300a21e0da21a35fb',\n",
       "   'url': 'https://data.materialsdatafacility.org/verde/abrehabiruk_virtual_db_v1.1/verde_calcs.tar/GKVDXUXIAHWQIK-UHFFFAOYSA-N/GKVDXUXIAHWQIK-UHFFFAOYSA-N_cat-rad_vac_freq.log'},\n",
       "  {'data_type': 'ASCII text',\n",
       "   'filename': 'GKVDXUXIAHWQIK-UHFFFAOYSA-N_S1_solv_freq.log',\n",
       "   'globus': 'globus://82f1b5c6-6e9b-11e5-ba47-22000b92c6ec/verde/abrehabiruk_virtual_db_v1.1/verde_calcs.tar/GKVDXUXIAHWQIK-UHFFFAOYSA-N/GKVDXUXIAHWQIK-UHFFFAOYSA-N_S1_solv_freq.log',\n",
       "   'length': 84937,\n",
       "   'mime_type': 'text/plain',\n",
       "   'sha512': '6a786868ff2a6671683b7bcc97b26c82c654772258ea7150d33a238ba26363cab1267c25a77d2932931876bcd3c1d90f2ce5578f138d978b33e2eb2a36c9f1f5',\n",
       "   'url': 'https://data.materialsdatafacility.org/verde/abrehabiruk_virtual_db_v1.1/verde_calcs.tar/GKVDXUXIAHWQIK-UHFFFAOYSA-N/GKVDXUXIAHWQIK-UHFFFAOYSA-N_S1_solv_freq.log'},\n",
       "  {'data_type': 'ASCII text',\n",
       "   'filename': 'GKVDXUXIAHWQIK-UHFFFAOYSA-N_S0_solv_freq.log',\n",
       "   'globus': 'globus://82f1b5c6-6e9b-11e5-ba47-22000b92c6ec/verde/abrehabiruk_virtual_db_v1.1/verde_calcs.tar/GKVDXUXIAHWQIK-UHFFFAOYSA-N/GKVDXUXIAHWQIK-UHFFFAOYSA-N_S0_solv_freq.log',\n",
       "   'length': 57818,\n",
       "   'mime_type': 'text/plain',\n",
       "   'sha512': 'f15f9abea04bf3db986280c40c0bdab6cc981859d0205757fed1a21f173e1ea89eeacd61f9232e1777d16c91704dd812a9cbd6aeb5d5bd808c2382b9e2cbfad2',\n",
       "   'url': 'https://data.materialsdatafacility.org/verde/abrehabiruk_virtual_db_v1.1/verde_calcs.tar/GKVDXUXIAHWQIK-UHFFFAOYSA-N/GKVDXUXIAHWQIK-UHFFFAOYSA-N_S0_solv_freq.log'},\n",
       "  {'data_type': 'ASCII text',\n",
       "   'filename': 'GKVDXUXIAHWQIK-UHFFFAOYSA-N_S0_vac_freq.log',\n",
       "   'globus': 'globus://82f1b5c6-6e9b-11e5-ba47-22000b92c6ec/verde/abrehabiruk_virtual_db_v1.1/verde_calcs.tar/GKVDXUXIAHWQIK-UHFFFAOYSA-N/GKVDXUXIAHWQIK-UHFFFAOYSA-N_S0_vac_freq.log',\n",
       "   'length': 54120,\n",
       "   'mime_type': 'text/plain',\n",
       "   'sha512': '15e7feb5e0c18eec8ffb8ef77bddc2298b909f60abab34275a1d50d5f9b72c3bcc91befe709341ff3d277dc7aeeae0f83748772c29621db90fbeb3df37565524',\n",
       "   'url': 'https://data.materialsdatafacility.org/verde/abrehabiruk_virtual_db_v1.1/verde_calcs.tar/GKVDXUXIAHWQIK-UHFFFAOYSA-N/GKVDXUXIAHWQIK-UHFFFAOYSA-N_S0_vac_freq.log'},\n",
       "  {'data_type': 'ASCII text',\n",
       "   'filename': 'GKVDXUXIAHWQIK-UHFFFAOYSA-N_cat-rad_solv_freq.log',\n",
       "   'globus': 'globus://82f1b5c6-6e9b-11e5-ba47-22000b92c6ec/verde/abrehabiruk_virtual_db_v1.1/verde_calcs.tar/GKVDXUXIAHWQIK-UHFFFAOYSA-N/GKVDXUXIAHWQIK-UHFFFAOYSA-N_cat-rad_solv_freq.log',\n",
       "   'length': 66305,\n",
       "   'mime_type': 'text/plain',\n",
       "   'sha512': 'f2c81eac36141f86b890bcab54a3f7aa1a0d640e7955acdc8b0f43dd2710d2cf457e1f89c4938b079391e201442cd3ae9dfe65f46890416d4c68c9da7d7504b2',\n",
       "   'url': 'https://data.materialsdatafacility.org/verde/abrehabiruk_virtual_db_v1.1/verde_calcs.tar/GKVDXUXIAHWQIK-UHFFFAOYSA-N/GKVDXUXIAHWQIK-UHFFFAOYSA-N_cat-rad_solv_freq.log'},\n",
       "  {'data_type': 'ASCII text',\n",
       "   'filename': 'GKVDXUXIAHWQIK-UHFFFAOYSA-N.json',\n",
       "   'globus': 'globus://82f1b5c6-6e9b-11e5-ba47-22000b92c6ec/verde/abrehabiruk_virtual_db_v1.1/verde_calcs.tar/GKVDXUXIAHWQIK-UHFFFAOYSA-N/GKVDXUXIAHWQIK-UHFFFAOYSA-N.json',\n",
       "   'length': 579,\n",
       "   'mime_type': 'text/plain',\n",
       "   'sha512': '4adb1c347069d975c914eaa42ffd4c1b6a7474903c34d6e0b06061aa883d522724d064566635e8d573c36d6b4942270ba83ed951970490601a71c8f209b5f5ff',\n",
       "   'url': 'https://data.materialsdatafacility.org/verde/abrehabiruk_virtual_db_v1.1/verde_calcs.tar/GKVDXUXIAHWQIK-UHFFFAOYSA-N/GKVDXUXIAHWQIK-UHFFFAOYSA-N.json'},\n",
       "  {'data_type': 'ASCII text',\n",
       "   'filename': 'GKVDXUXIAHWQIK-UHFFFAOYSA-N_T1_solv_freq.log',\n",
       "   'globus': 'globus://82f1b5c6-6e9b-11e5-ba47-22000b92c6ec/verde/abrehabiruk_virtual_db_v1.1/verde_calcs.tar/GKVDXUXIAHWQIK-UHFFFAOYSA-N/GKVDXUXIAHWQIK-UHFFFAOYSA-N_T1_solv_freq.log',\n",
       "   'length': 66369,\n",
       "   'mime_type': 'text/plain',\n",
       "   'sha512': '2b6c1ead705f5c6fa6f44605185c8c82a3826ae0ba60c77933351366e43e7e9c974a8002cd0c8da7092d1fd4a1d54ec72f8fce142aeb5618cb393a2c154d07e4',\n",
       "   'url': 'https://data.materialsdatafacility.org/verde/abrehabiruk_virtual_db_v1.1/verde_calcs.tar/GKVDXUXIAHWQIK-UHFFFAOYSA-N/GKVDXUXIAHWQIK-UHFFFAOYSA-N_T1_solv_freq.log'}],\n",
       " 'mdf': {'ingest_date': '2019-09-13T18:15:15.069466Z',\n",
       "  'organizations': ['Virtual Excited State Reference for the Discovery of Electronic Materials Database'],\n",
       "  'resource_type': 'record',\n",
       "  'scroll_id': 1,\n",
       "  'source_id': 'abrehabiruk_virtual_db_v1.1',\n",
       "  'source_name': 'abrehabiruk_virtual_db',\n",
       "  'version': 1},\n",
       " 'molecule': {'homo': -8.165865,\n",
       "  'inchi_key': 'GKVDXUXIAHWQIK-UHFFFAOYSA-N',\n",
       "  'lumo': -1.967927,\n",
       "  'smiles': 'N1=NC1'},\n",
       " 'projects': {'verde': {'0_0': {'S1': 3.53, 'T1': 3.01},\n",
       "   'dipole_moment': {'S0': 2.2142, 'S1': 2.2142, 'T1': 3.3892},\n",
       "   'ionization_potential': 10.57,\n",
       "   'redox_potential': {'S0': 3.38, 'S1': -0.15, 'T1': 0.37},\n",
       "   'vertical_excitation_energy': 3.51}}}"
      ]
     },
     "execution_count": 12,
     "metadata": {},
     "output_type": "execute_result"
    }
   ],
   "source": [
    "res[0]"
   ]
  },
  {
   "cell_type": "markdown",
   "metadata": {},
   "source": [
    "# VERDE-specific Metadata "
   ]
  },
  {
   "cell_type": "code",
   "execution_count": 13,
   "metadata": {},
   "outputs": [
    {
     "data": {
      "text/plain": [
       "{'0_0': {'S1': 3.53, 'T1': 3.01},\n",
       " 'dipole_moment': {'S0': 2.2142, 'S1': 2.2142, 'T1': 3.3892},\n",
       " 'ionization_potential': 10.57,\n",
       " 'redox_potential': {'S0': 3.38, 'S1': -0.15, 'T1': 0.37},\n",
       " 'vertical_excitation_energy': 3.51}"
      ]
     },
     "execution_count": 13,
     "metadata": {},
     "output_type": "execute_result"
    }
   ],
   "source": [
    "res[0]['projects']['verde']"
   ]
  },
  {
   "cell_type": "markdown",
   "metadata": {},
   "source": [
    "# Information on the Molecule"
   ]
  },
  {
   "cell_type": "code",
   "execution_count": 14,
   "metadata": {},
   "outputs": [
    {
     "data": {
      "text/plain": [
       "{'homo': -8.165865,\n",
       " 'inchi_key': 'GKVDXUXIAHWQIK-UHFFFAOYSA-N',\n",
       " 'lumo': -1.967927,\n",
       " 'smiles': 'N1=NC1'}"
      ]
     },
     "execution_count": 14,
     "metadata": {},
     "output_type": "execute_result"
    }
   ],
   "source": [
    "res[0]['molecule']"
   ]
  },
  {
   "cell_type": "code",
   "execution_count": 15,
   "metadata": {},
   "outputs": [
    {
     "data": {
      "text/html": [
       "<div>\n",
       "<style scoped>\n",
       "    .dataframe tbody tr th:only-of-type {\n",
       "        vertical-align: middle;\n",
       "    }\n",
       "\n",
       "    .dataframe tbody tr th {\n",
       "        vertical-align: top;\n",
       "    }\n",
       "\n",
       "    .dataframe thead th {\n",
       "        text-align: right;\n",
       "    }\n",
       "</style>\n",
       "<table border=\"1\" class=\"dataframe\">\n",
       "  <thead>\n",
       "    <tr style=\"text-align: right;\">\n",
       "      <th></th>\n",
       "      <th>0_0_S1</th>\n",
       "      <th>0_0_T1</th>\n",
       "      <th>dipole_moment_S0</th>\n",
       "      <th>dipole_moment_S1</th>\n",
       "      <th>dipole_moment_T1</th>\n",
       "      <th>homo</th>\n",
       "      <th>inchi_key</th>\n",
       "      <th>ionization_potential</th>\n",
       "      <th>lumo</th>\n",
       "      <th>redox_potential_S0</th>\n",
       "      <th>redox_potential_S1</th>\n",
       "      <th>redox_potential_T1</th>\n",
       "      <th>smiles</th>\n",
       "      <th>vertical_excitation_energy</th>\n",
       "    </tr>\n",
       "  </thead>\n",
       "  <tbody>\n",
       "    <tr>\n",
       "      <th>0</th>\n",
       "      <td>3.53</td>\n",
       "      <td>3.01</td>\n",
       "      <td>2.21420</td>\n",
       "      <td>2.2142</td>\n",
       "      <td>3.38920</td>\n",
       "      <td>-8.165865</td>\n",
       "      <td>GKVDXUXIAHWQIK-UHFFFAOYSA-N</td>\n",
       "      <td>10.57</td>\n",
       "      <td>-1.967927</td>\n",
       "      <td>3.38</td>\n",
       "      <td>-0.15</td>\n",
       "      <td>0.37</td>\n",
       "      <td>N1=NC1</td>\n",
       "      <td>3.51</td>\n",
       "    </tr>\n",
       "    <tr>\n",
       "      <th>1</th>\n",
       "      <td>NaN</td>\n",
       "      <td>0.76</td>\n",
       "      <td>0.69833</td>\n",
       "      <td>NaN</td>\n",
       "      <td>5.91455</td>\n",
       "      <td>-5.916844</td>\n",
       "      <td>BVBWGQQLKITHLL-FOCLMDBBSA-N</td>\n",
       "      <td>6.64</td>\n",
       "      <td>-2.936653</td>\n",
       "      <td>1.01</td>\n",
       "      <td>NaN</td>\n",
       "      <td>0.25</td>\n",
       "      <td>CC#Cc1ccc(o1)/N=N/c1ccc(o1)C#CC</td>\n",
       "      <td>NaN</td>\n",
       "    </tr>\n",
       "    <tr>\n",
       "      <th>2</th>\n",
       "      <td>NaN</td>\n",
       "      <td>1.07</td>\n",
       "      <td>4.70836</td>\n",
       "      <td>NaN</td>\n",
       "      <td>6.89634</td>\n",
       "      <td>-5.982151</td>\n",
       "      <td>KRUMPIYRKNRXGF-SZWZUZNMSA-N</td>\n",
       "      <td>6.83</td>\n",
       "      <td>-2.584265</td>\n",
       "      <td>1.14</td>\n",
       "      <td>NaN</td>\n",
       "      <td>0.07</td>\n",
       "      <td>O/C=C\\c1ccc(cc1)/N=N/c1ccc(cc1)/C=C\\O</td>\n",
       "      <td>NaN</td>\n",
       "    </tr>\n",
       "    <tr>\n",
       "      <th>3</th>\n",
       "      <td>NaN</td>\n",
       "      <td>1.06</td>\n",
       "      <td>0.42030</td>\n",
       "      <td>NaN</td>\n",
       "      <td>3.72330</td>\n",
       "      <td>-6.095350</td>\n",
       "      <td>RYSCLVZXACDRPK-QURGRASLSA-N</td>\n",
       "      <td>6.82</td>\n",
       "      <td>-2.741547</td>\n",
       "      <td>1.15</td>\n",
       "      <td>NaN</td>\n",
       "      <td>0.09</td>\n",
       "      <td>c1csc(c1)c1ccc(cc1)/N=N/c1ccc(cc1)c1cccs1</td>\n",
       "      <td>NaN</td>\n",
       "    </tr>\n",
       "    <tr>\n",
       "      <th>4</th>\n",
       "      <td>NaN</td>\n",
       "      <td>0.20</td>\n",
       "      <td>3.13260</td>\n",
       "      <td>NaN</td>\n",
       "      <td>2.78480</td>\n",
       "      <td>-5.793304</td>\n",
       "      <td>IIEZTXLLWBCGON-DQSJHHFOSA-N</td>\n",
       "      <td>6.65</td>\n",
       "      <td>-2.994069</td>\n",
       "      <td>0.83</td>\n",
       "      <td>NaN</td>\n",
       "      <td>0.63</td>\n",
       "      <td>FC(c1ccc([nH]1)c1ccc(s1)/N=N\\c1ccc(s1)c1ccc([n...</td>\n",
       "      <td>NaN</td>\n",
       "    </tr>\n",
       "  </tbody>\n",
       "</table>\n",
       "</div>"
      ],
      "text/plain": [
       "   0_0_S1  0_0_T1  dipole_moment_S0  dipole_moment_S1  dipole_moment_T1  \\\n",
       "0    3.53    3.01           2.21420            2.2142           3.38920   \n",
       "1     NaN    0.76           0.69833               NaN           5.91455   \n",
       "2     NaN    1.07           4.70836               NaN           6.89634   \n",
       "3     NaN    1.06           0.42030               NaN           3.72330   \n",
       "4     NaN    0.20           3.13260               NaN           2.78480   \n",
       "\n",
       "       homo                    inchi_key  ionization_potential      lumo  \\\n",
       "0 -8.165865  GKVDXUXIAHWQIK-UHFFFAOYSA-N                 10.57 -1.967927   \n",
       "1 -5.916844  BVBWGQQLKITHLL-FOCLMDBBSA-N                  6.64 -2.936653   \n",
       "2 -5.982151  KRUMPIYRKNRXGF-SZWZUZNMSA-N                  6.83 -2.584265   \n",
       "3 -6.095350  RYSCLVZXACDRPK-QURGRASLSA-N                  6.82 -2.741547   \n",
       "4 -5.793304  IIEZTXLLWBCGON-DQSJHHFOSA-N                  6.65 -2.994069   \n",
       "\n",
       "   redox_potential_S0  redox_potential_S1  redox_potential_T1  \\\n",
       "0                3.38               -0.15                0.37   \n",
       "1                1.01                 NaN                0.25   \n",
       "2                1.14                 NaN                0.07   \n",
       "3                1.15                 NaN                0.09   \n",
       "4                0.83                 NaN                0.63   \n",
       "\n",
       "                                              smiles  \\\n",
       "0                                             N1=NC1   \n",
       "1                    CC#Cc1ccc(o1)/N=N/c1ccc(o1)C#CC   \n",
       "2              O/C=C\\c1ccc(cc1)/N=N/c1ccc(cc1)/C=C\\O   \n",
       "3          c1csc(c1)c1ccc(cc1)/N=N/c1ccc(cc1)c1cccs1   \n",
       "4  FC(c1ccc([nH]1)c1ccc(s1)/N=N\\c1ccc(s1)c1ccc([n...   \n",
       "\n",
       "   vertical_excitation_energy  \n",
       "0                        3.51  \n",
       "1                         NaN  \n",
       "2                         NaN  \n",
       "3                         NaN  \n",
       "4                         NaN  "
      ]
     },
     "execution_count": 15,
     "metadata": {},
     "output_type": "execute_result"
    }
   ],
   "source": [
    "df = shape_data(res)\n",
    "df.head()"
   ]
  },
  {
   "cell_type": "code",
   "execution_count": 16,
   "metadata": {},
   "outputs": [
    {
     "data": {
      "text/plain": [
       "<matplotlib.collections.PathCollection at 0x1240a4e48>"
      ]
     },
     "execution_count": 16,
     "metadata": {},
     "output_type": "execute_result"
    },
    {
     "data": {
      "image/png": "[encoded data removed]",
      "text/plain": [
       "<Figure size 432x288 with 1 Axes>"
      ]
     },
     "metadata": {
      "needs_background": "light"
     },
     "output_type": "display_data"
    }
   ],
   "source": [
    "plt.scatter(df.ionization_potential, df.homo)"
   ]
  },
  {
   "cell_type": "markdown",
   "metadata": {},
   "source": [
    "# Matching Ranges\n",
    "Here we match records where the 8.5 < ionization_potential < 11.0"
   ]
  },
  {
   "cell_type": "code",
   "execution_count": 17,
   "metadata": {},
   "outputs": [
    {
     "data": {
      "text/plain": [
       "155"
      ]
     },
     "execution_count": 17,
     "metadata": {},
     "output_type": "execute_result"
    }
   ],
   "source": [
    "res = mdf.match_resource_types(\"record\")\n",
    "res = res.match_source_names(\"abrehabiruk_virtual_db\")\n",
    "res = res.match_range('projects.verde.ionization_potential', start=8.5, stop=11.0)\n",
    "res = res.search()\n",
    "len(res)"
   ]
  },
  {
   "cell_type": "code",
   "execution_count": 18,
   "metadata": {},
   "outputs": [
    {
     "data": {
      "text/plain": [
       "<matplotlib.collections.PathCollection at 0x1234280f0>"
      ]
     },
     "execution_count": 18,
     "metadata": {},
     "output_type": "execute_result"
    },
    {
     "data": {
      "image/png": "[encoded data removed]",
      "text/plain": [
       "<Figure size 432x288 with 1 Axes>"
      ]
     },
     "metadata": {
      "needs_background": "light"
     },
     "output_type": "display_data"
    }
   ],
   "source": [
    "df = shape_data(res)\n",
    "plt.scatter(df.ionization_potential, df.homo)"
   ]
  },
  {
   "cell_type": "markdown",
   "metadata": {},
   "source": [
    "# Pull the Raw Calculations for analysis"
   ]
  },
  {
   "cell_type": "code",
   "execution_count": 19,
   "metadata": {},
   "outputs": [
    {
     "data": {
      "text/plain": [
       "18"
      ]
     },
     "execution_count": 19,
     "metadata": {},
     "output_type": "execute_result"
    }
   ],
   "source": [
    "res = mdf.match_resource_types(\"record\")\n",
    "res = res.match_source_names(\"abrehabiruk_virtual_db\")\n",
    "res = res.match_range('projects.verde.ionization_potential', start=10.0, stop=11.0)\n",
    "res = res.search()\n",
    "len(res)"
   ]
  },
  {
   "cell_type": "code",
   "execution_count": 22,
   "metadata": {},
   "outputs": [
    {
     "name": "stderr",
     "output_type": "stream",
     "text": [
      "\n",
      "Processing records:   0%|          | 0/18 [00:00<?, ?it/s]\u001b[A\n",
      "Processing records: 100%|██████████| 18/18 [00:00<00:00, 1486.46it/s]\u001b[A\n",
      "Transferring data:   0%|          | 0/1 [00:00<?, ?it/s]\u001b[A\n",
      "Transferring data: 100%|██████████| 1/1 [02:58<00:00, 178.61s/it]\u001b[A\n",
      "\u001b[A"
     ]
    },
    {
     "name": "stdout",
     "output_type": "stream",
     "text": [
      "All transfers processed\n",
      "1 transfers succeeded\n",
      "0 transfers failed\n"
     ]
    }
   ],
   "source": [
    "# NBVAL_SKIP\n",
    "status = mdf.globus_download(res, dest=\"/Users/ben/Desktop/globus/verde\", preserve_dir=True)"
   ]
  }
 ],
 "metadata": {
  "kernelspec": {
   "display_name": "Python 3",
   "language": "python",
   "name": "python3"
  },
  "language_info": {
   "codemirror_mode": {
    "name": "ipython",
    "version": 3
   },
   "file_extension": ".py",
   "mimetype": "text/x-python",
   "name": "python",
   "nbconvert_exporter": "python",
   "pygments_lexer": "ipython3",
   "version": "3.6.7"
  }
 },
 "nbformat": 4,
 "nbformat_minor": 2
}
