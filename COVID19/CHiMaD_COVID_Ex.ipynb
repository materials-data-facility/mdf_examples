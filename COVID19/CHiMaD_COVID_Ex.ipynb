{
 "cells": [
  {
   "cell_type": "markdown",
   "metadata": {},
   "source": [
    "# CHiMaD Workshop: COVID-19 Example Notebook"
   ]
  },
  {
   "cell_type": "markdown",
   "metadata": {},
   "source": [
    "This dataset contains roughly 700 molecules tat were located within COVID19 literature."
   ]
  },
  {
   "cell_type": "code",
   "execution_count": 1,
   "metadata": {},
   "outputs": [],
   "source": [
    "import pandas as pd\n",
    "import numpy as np\n",
    "from rdkit.Chem.Draw import IPythonConsole\n",
    "from rdkit import Chem\n",
    "import os\n",
    "from sklearn.decomposition import PCA\n",
    "import matplotlib.pyplot as plt\n",
    "from dlhub_sdk.client import DLHubClient\n",
    "from mdf_forge import Forge\n",
    "%matplotlib inline"
   ]
  },
  {
   "cell_type": "markdown",
   "metadata": {},
   "source": [
    "### Retrieving Data with MDF Forge"
   ]
  },
  {
   "cell_type": "code",
   "execution_count": null,
   "metadata": {},
   "outputs": [],
   "source": [
    "mdf = Forge('mdf-test')\n",
    "\n",
    "dataset_name = \"anl_covid19_2020\"\n",
    "r = mdf.match_resource_types(\"record\").match_source_names(dataset_name)\n",
    "r = r.search()"
   ]
  },
  {
   "cell_type": "code",
   "execution_count": 71,
   "metadata": {},
   "outputs": [
    {
     "name": "stdout",
     "output_type": "stream",
     "text": [
      "Number of Matches: 29\n",
      "\n",
      "abbv-744 ---- 491.6 amu\n",
      "arbidol ---- 477.4 amu\n",
      "umifenovir ---- 477.4 amu\n",
      "arbidol ---- 477.4 amu\n",
      "camostat mesylate ---- 494.5 amu\n",
      "dasatinib ---- 488 amu\n",
      "imatinib ---- 493.6 amu\n",
      "silybin ---- 482.4 amu\n",
      "nicardipine ---- 479.5 amu\n",
      "sildenafil ---- 474.6 amu\n",
      "almitrine ---- 477.6 amu\n",
      "carminic acid ---- 492.4 amu\n",
      "nicardipine ---- 479.5 amu\n",
      "conivaptan ---- 498.6 amu\n",
      "silybin ---- 482.4 amu\n",
      "idarubicin ---- 497.5 amu\n",
      "arbidol ---- 477.4 amu\n",
      "balapiravir ---- 494.5 amu\n",
      "baloxavir ---- 483.5 amu\n",
      "dasabuvir ---- 493.6 amu\n",
      "umifenovir ---- 477.4 amu\n",
      "arbidol ---- 477.4 amu\n",
      "dasatinib ---- 488 amu\n",
      "arzoxifene ---- 475.6 amu\n",
      "umifenovir ---- 477.4 amu\n",
      "pralatrexate ---- 477.5 amu\n",
      "quinacrine hydrochloride ---- 472.9 amu\n",
      "arbidol ---- 477.4 amu\n",
      "prednicarbate ---- 488.6 amu\n"
     ]
    }
   ],
   "source": [
    "mdf.match_resource_types(\"record\").match_source_names(dataset_name).\\\n",
    "    match_range(\"molecule.molecular_weight\", start=471, stop=500)\n",
    "subset, info = mdf.search(limit=100, info=True, reset_query=True)\n",
    "print('Number of Matches: '+str(info['total_query_matches']))\n",
    "print('')\n",
    "mol_weight_smiles = []\n",
    "for record in subset:\n",
    "    mol_weight_smiles.append(record['molecule']['smiles'])\n",
    "    print(record['molecule']['synonyms'][0]+' ---- '+\\\n",
    "          str(record['molecule']['molecular_weight'])+' amu')"
   ]
  },
  {
   "cell_type": "code",
   "execution_count": 84,
   "metadata": {},
   "outputs": [
    {
     "name": "stdout",
     "output_type": "stream",
     "text": [
      "Amine Functional Group Matches: 16\n",
      "Fluoro Functional Group Matches: 29\n"
     ]
    }
   ],
   "source": [
    "mdf.match_resource_types(\"record\").match_source_names(dataset_name).\\\n",
    "    match_field(\"molecule.iupac_name\", value='amine', required=True)\n",
    "subset, info = mdf.search(limit=100, info=True, reset_query=True)\n",
    "print('Amine Functional Group Matches: '+str(info['total_query_matches']))\n",
    "amine_smiles = []\n",
    "for rr in subset:\n",
    "    amine_smiles.append(rr['molecule']['smiles'])\n",
    "\n",
    "mdf.match_resource_types(\"record\").match_source_names(dataset_name).\\\n",
    "    match_field(\"molecule.iupac_name\", value='fluoro', required=True)\n",
    "subset, info = mdf.search(limit=100, info=True, reset_query=True)\n",
    "print('Fluoro Functional Group Matches: '+str(info['total_query_matches']))\n",
    "fluoro_smiles = []\n",
    "for rr in subset:\n",
    "    fluoro_smiles.append(rr['molecule']['smiles'])"
   ]
  },
  {
   "cell_type": "markdown",
   "metadata": {},
   "source": [
    "### Using DLHub to Run and Compare Models"
   ]
  },
  {
   "cell_type": "markdown",
   "metadata": {},
   "source": [
    "For Reference:\n",
    "\n",
    "hERG I and II - a gene that codes for proteins controlling K-ion exchange in cell membranes\n",
    "\n",
    "AMES I - a common bacterial toxicological test\n",
    "\n",
    "Carc I - a common test for carcinogenicity (ability to cause cancer)\n",
    "\n",
    "Based on this scale: score of 1 is most toxic, score of 0 is most benign."
   ]
  },
  {
   "cell_type": "code",
   "execution_count": 9,
   "metadata": {},
   "outputs": [],
   "source": [
    "DL = DLHubClient()\n",
    "y_out_DL = DL.run(name ='loganw_globusid/admet_tox', \\\n",
    "                  inputs=all_smiles)"
   ]
  },
  {
   "cell_type": "code",
   "execution_count": 24,
   "metadata": {},
   "outputs": [
    {
     "data": {
      "text/html": [
       "<div>\n",
       "<style scoped>\n",
       "    .dataframe tbody tr th:only-of-type {\n",
       "        vertical-align: middle;\n",
       "    }\n",
       "\n",
       "    .dataframe tbody tr th {\n",
       "        vertical-align: top;\n",
       "    }\n",
       "\n",
       "    .dataframe thead th {\n",
       "        text-align: right;\n",
       "    }\n",
       "</style>\n",
       "<table border=\"1\" class=\"dataframe\">\n",
       "  <thead>\n",
       "    <tr style=\"text-align: right;\">\n",
       "      <th></th>\n",
       "      <th>smiles</th>\n",
       "      <th>T_hERG_II</th>\n",
       "      <th>T_AMES_I</th>\n",
       "      <th>T_Carc_I</th>\n",
       "      <th>T_hERG_I</th>\n",
       "    </tr>\n",
       "  </thead>\n",
       "  <tbody>\n",
       "    <tr>\n",
       "      <th>0</th>\n",
       "      <td>CN(C(=O)COC(=O)Cc1ccc(cc1)OC(=O)c1ccc(cc1)N=C(...</td>\n",
       "      <td>0.3766730614546943</td>\n",
       "      <td>0.1727067306558859</td>\n",
       "      <td>0.322438834040425</td>\n",
       "      <td>0.12280826064597285</td>\n",
       "    </tr>\n",
       "    <tr>\n",
       "      <th>1</th>\n",
       "      <td>OCC(Cn1cnc2c1ncnc2N)O</td>\n",
       "      <td>0.19896779145701676</td>\n",
       "      <td>0.6015104748693273</td>\n",
       "      <td>0.13226881138619703</td>\n",
       "      <td>0.13241346970563753</td>\n",
       "    </tr>\n",
       "    <tr>\n",
       "      <th>2</th>\n",
       "      <td>CC(C12CC3CC(C2)CC(C1)C3)N</td>\n",
       "      <td>0.08067164842284695</td>\n",
       "      <td>0.3462332723716513</td>\n",
       "      <td>0.0692546979724032</td>\n",
       "      <td>0.13313487130002913</td>\n",
       "    </tr>\n",
       "    <tr>\n",
       "      <th>3</th>\n",
       "      <td>OCC(Cn1ccc(nc1=O)N)OCP(=O)(O)O</td>\n",
       "      <td>0.24052601576518745</td>\n",
       "      <td>0.09202143455196388</td>\n",
       "      <td>0.16065251954250265</td>\n",
       "      <td>0.1607802069678012</td>\n",
       "    </tr>\n",
       "    <tr>\n",
       "      <th>4</th>\n",
       "      <td>OCC1OC(Oc2cc3OC(CC(=O)c3c(c2)O)c2ccc(c(c2)O)OC...</td>\n",
       "      <td>0.28892589195747925</td>\n",
       "      <td>0.30248856165990945</td>\n",
       "      <td>0.05533363434424185</td>\n",
       "      <td>0.14345901051853016</td>\n",
       "    </tr>\n",
       "  </tbody>\n",
       "</table>\n",
       "</div>"
      ],
      "text/plain": [
       "                                              smiles            T_hERG_II  \\\n",
       "0  CN(C(=O)COC(=O)Cc1ccc(cc1)OC(=O)c1ccc(cc1)N=C(...   0.3766730614546943   \n",
       "1                              OCC(Cn1cnc2c1ncnc2N)O  0.19896779145701676   \n",
       "2                          CC(C12CC3CC(C2)CC(C1)C3)N  0.08067164842284695   \n",
       "3                     OCC(Cn1ccc(nc1=O)N)OCP(=O)(O)O  0.24052601576518745   \n",
       "4  OCC1OC(Oc2cc3OC(CC(=O)c3c(c2)O)c2ccc(c(c2)O)OC...  0.28892589195747925   \n",
       "\n",
       "              T_AMES_I             T_Carc_I             T_hERG_I  \n",
       "0   0.1727067306558859    0.322438834040425  0.12280826064597285  \n",
       "1   0.6015104748693273  0.13226881138619703  0.13241346970563753  \n",
       "2   0.3462332723716513   0.0692546979724032  0.13313487130002913  \n",
       "3  0.09202143455196388  0.16065251954250265   0.1607802069678012  \n",
       "4  0.30248856165990945  0.05533363434424185  0.14345901051853016  "
      ]
     },
     "execution_count": 24,
     "metadata": {},
     "output_type": "execute_result"
    }
   ],
   "source": [
    "tox_out = pd.DataFrame(np.array(list(y_out_DL.values())).T,columns=y_out_DL.keys())\n",
    "tox_out.head()"
   ]
  },
  {
   "cell_type": "code",
   "execution_count": 96,
   "metadata": {},
   "outputs": [
    {
     "data": {
      "image/png": "[encoded data removed]",
      "text/plain": [
       "<Figure size 432x288 with 1 Axes>"
      ]
     },
     "metadata": {
      "needs_background": "light"
     },
     "output_type": "display_data"
    }
   ],
   "source": [
    "plt.figure()\n",
    "plt.hist(np.array(tox_out['T_AMES_I'],dtype=np.float64),30,alpha=0.8,label='T_AMES_I')\n",
    "plt.hist(np.array(tox_out['T_Carc_I'],dtype=np.float64),30,alpha=0.8,label='T_Carc_I')\n",
    "plt.hist(np.array(tox_out['T_hERG_I'],dtype=np.float64),30,alpha=0.8,label='hERG')\n",
    "plt.hist(np.array(tox_out['T_hERG_II'],dtype=np.float64),30,alpha=0.8,label='hERG')\n",
    "plt.xlim([0,1])\n",
    "plt.xlabel('TOX Measurement')\n",
    "plt.ylabel('Hist. Frequency')\n",
    "plt.title('Distribution of Toxicity of Molecules')\n",
    "plt.legend()\n",
    "plt.grid()\n",
    "plt.show()"
   ]
  },
  {
   "cell_type": "code",
   "execution_count": 85,
   "metadata": {},
   "outputs": [],
   "source": [
    "y_out_amine = DL.run(name = 'loganw_globusid/admet_tox', \\\n",
    "                  inputs=amine_smiles)\n",
    "y_out_fluoro = DL.run(name = 'loganw_globusid/admet_tox', \\\n",
    "                  inputs=fluoro_smiles)\n",
    "tox_out_amine = pd.DataFrame(np.array(list(y_out_amine.values())).T,\\\n",
    "                             columns=y_out_amine.keys())\n",
    "tox_out_fluoro = pd.DataFrame(np.array(list(y_out_fluoro.values())).T,\\\n",
    "                             columns=y_out_fluoro.keys())"
   ]
  },
  {
   "cell_type": "code",
   "execution_count": 86,
   "metadata": {},
   "outputs": [
    {
     "data": {
      "text/html": [
       "<div>\n",
       "<style scoped>\n",
       "    .dataframe tbody tr th:only-of-type {\n",
       "        vertical-align: middle;\n",
       "    }\n",
       "\n",
       "    .dataframe tbody tr th {\n",
       "        vertical-align: top;\n",
       "    }\n",
       "\n",
       "    .dataframe thead th {\n",
       "        text-align: right;\n",
       "    }\n",
       "</style>\n",
       "<table border=\"1\" class=\"dataframe\">\n",
       "  <thead>\n",
       "    <tr style=\"text-align: right;\">\n",
       "      <th></th>\n",
       "      <th>smiles</th>\n",
       "      <th>T_hERG_II</th>\n",
       "      <th>T_AMES_I</th>\n",
       "      <th>T_Carc_I</th>\n",
       "      <th>T_hERG_I</th>\n",
       "    </tr>\n",
       "  </thead>\n",
       "  <tbody>\n",
       "    <tr>\n",
       "      <th>0</th>\n",
       "      <td>NC12CC3CC(C2)CC(C1)C3</td>\n",
       "      <td>0.08608340947676724</td>\n",
       "      <td>0.2232309850193229</td>\n",
       "      <td>0.1489027312185909</td>\n",
       "      <td>0.16023652258396104</td>\n",
       "    </tr>\n",
       "    <tr>\n",
       "      <th>1</th>\n",
       "      <td>Nc1c2CCCCc2nc2c1cccc2</td>\n",
       "      <td>0.3845554610252374</td>\n",
       "      <td>0.8331459125060198</td>\n",
       "      <td>0.060973776436298276</td>\n",
       "      <td>0.11832655239476667</td>\n",
       "    </tr>\n",
       "    <tr>\n",
       "      <th>2</th>\n",
       "      <td>NC12CC3CC(C2)CC(C1)C3</td>\n",
       "      <td>0.08608340947676724</td>\n",
       "      <td>0.2232309850193229</td>\n",
       "      <td>0.1489027312185909</td>\n",
       "      <td>0.16023652258396104</td>\n",
       "    </tr>\n",
       "    <tr>\n",
       "      <th>3</th>\n",
       "      <td>CC(Cc1ccccc1)(N)C</td>\n",
       "      <td>0.07414654375019278</td>\n",
       "      <td>0.04506849646048297</td>\n",
       "      <td>0.3344128646752374</td>\n",
       "      <td>0.13501421155928722</td>\n",
       "    </tr>\n",
       "    <tr>\n",
       "      <th>4</th>\n",
       "      <td>Nc1cc(nc(=N)n1O)N1CCCCC1</td>\n",
       "      <td>0.8559482605754931</td>\n",
       "      <td>0.7666147068185877</td>\n",
       "      <td>0.2663495817740153</td>\n",
       "      <td>0.34129844840281426</td>\n",
       "    </tr>\n",
       "  </tbody>\n",
       "</table>\n",
       "</div>"
      ],
      "text/plain": [
       "                     smiles            T_hERG_II             T_AMES_I  \\\n",
       "0     NC12CC3CC(C2)CC(C1)C3  0.08608340947676724   0.2232309850193229   \n",
       "1     Nc1c2CCCCc2nc2c1cccc2   0.3845554610252374   0.8331459125060198   \n",
       "2     NC12CC3CC(C2)CC(C1)C3  0.08608340947676724   0.2232309850193229   \n",
       "3         CC(Cc1ccccc1)(N)C  0.07414654375019278  0.04506849646048297   \n",
       "4  Nc1cc(nc(=N)n1O)N1CCCCC1   0.8559482605754931   0.7666147068185877   \n",
       "\n",
       "               T_Carc_I             T_hERG_I  \n",
       "0    0.1489027312185909  0.16023652258396104  \n",
       "1  0.060973776436298276  0.11832655239476667  \n",
       "2    0.1489027312185909  0.16023652258396104  \n",
       "3    0.3344128646752374  0.13501421155928722  \n",
       "4    0.2663495817740153  0.34129844840281426  "
      ]
     },
     "execution_count": 86,
     "metadata": {},
     "output_type": "execute_result"
    }
   ],
   "source": [
    "tox_out_amine.head()"
   ]
  },
  {
   "cell_type": "code",
   "execution_count": 87,
   "metadata": {},
   "outputs": [
    {
     "data": {
      "text/html": [
       "<div>\n",
       "<style scoped>\n",
       "    .dataframe tbody tr th:only-of-type {\n",
       "        vertical-align: middle;\n",
       "    }\n",
       "\n",
       "    .dataframe tbody tr th {\n",
       "        vertical-align: top;\n",
       "    }\n",
       "\n",
       "    .dataframe thead th {\n",
       "        text-align: right;\n",
       "    }\n",
       "</style>\n",
       "<table border=\"1\" class=\"dataframe\">\n",
       "  <thead>\n",
       "    <tr style=\"text-align: right;\">\n",
       "      <th></th>\n",
       "      <th>smiles</th>\n",
       "      <th>T_hERG_II</th>\n",
       "      <th>T_AMES_I</th>\n",
       "      <th>T_Carc_I</th>\n",
       "      <th>T_hERG_I</th>\n",
       "    </tr>\n",
       "  </thead>\n",
       "  <tbody>\n",
       "    <tr>\n",
       "      <th>0</th>\n",
       "      <td>Fc1c[nH]c(=O)c(n1)C(=O)N</td>\n",
       "      <td>0.13121689667422953</td>\n",
       "      <td>0.41610594542109125</td>\n",
       "      <td>0.11545496183032491</td>\n",
       "      <td>0.1020209108014817</td>\n",
       "    </tr>\n",
       "    <tr>\n",
       "      <th>1</th>\n",
       "      <td>CCCc1cc(F)ccc1C(c1ncc[nH]1)O</td>\n",
       "      <td>0.24359381523638987</td>\n",
       "      <td>0.14455481508783335</td>\n",
       "      <td>0.1897581809095928</td>\n",
       "      <td>0.16915152055029892</td>\n",
       "    </tr>\n",
       "    <tr>\n",
       "      <th>2</th>\n",
       "      <td>Fc1c[nH]c(=O)c(n1)C(=O)N</td>\n",
       "      <td>0.13121689667422953</td>\n",
       "      <td>0.41610594542109125</td>\n",
       "      <td>0.11545496183032491</td>\n",
       "      <td>0.1020209108014817</td>\n",
       "    </tr>\n",
       "    <tr>\n",
       "      <th>3</th>\n",
       "      <td>Fc1c[nH]c(=O)c(n1)C(=O)N</td>\n",
       "      <td>0.13121689667422953</td>\n",
       "      <td>0.41610594542109125</td>\n",
       "      <td>0.11545496183032491</td>\n",
       "      <td>0.1020209108014817</td>\n",
       "    </tr>\n",
       "    <tr>\n",
       "      <th>4</th>\n",
       "      <td>NC(=O)CCCN=C(c1cc(F)ccc1O)c1ccc(cc1)Cl</td>\n",
       "      <td>0.646756656328164</td>\n",
       "      <td>0.12494980584559724</td>\n",
       "      <td>0.20286062484423123</td>\n",
       "      <td>0.10803620071112574</td>\n",
       "    </tr>\n",
       "  </tbody>\n",
       "</table>\n",
       "</div>"
      ],
      "text/plain": [
       "                                   smiles            T_hERG_II  \\\n",
       "0                Fc1c[nH]c(=O)c(n1)C(=O)N  0.13121689667422953   \n",
       "1            CCCc1cc(F)ccc1C(c1ncc[nH]1)O  0.24359381523638987   \n",
       "2                Fc1c[nH]c(=O)c(n1)C(=O)N  0.13121689667422953   \n",
       "3                Fc1c[nH]c(=O)c(n1)C(=O)N  0.13121689667422953   \n",
       "4  NC(=O)CCCN=C(c1cc(F)ccc1O)c1ccc(cc1)Cl    0.646756656328164   \n",
       "\n",
       "              T_AMES_I             T_Carc_I             T_hERG_I  \n",
       "0  0.41610594542109125  0.11545496183032491   0.1020209108014817  \n",
       "1  0.14455481508783335   0.1897581809095928  0.16915152055029892  \n",
       "2  0.41610594542109125  0.11545496183032491   0.1020209108014817  \n",
       "3  0.41610594542109125  0.11545496183032491   0.1020209108014817  \n",
       "4  0.12494980584559724  0.20286062484423123  0.10803620071112574  "
      ]
     },
     "execution_count": 87,
     "metadata": {},
     "output_type": "execute_result"
    }
   ],
   "source": [
    "tox_out_fluoro.head()"
   ]
  },
  {
   "cell_type": "markdown",
   "metadata": {},
   "source": [
    "### Comparing Toxicity of Amine Groups Versus Fluoro Groups"
   ]
  },
  {
   "cell_type": "code",
   "execution_count": 94,
   "metadata": {},
   "outputs": [
    {
     "data": {
      "image/png": "[encoded data removed]",
      "text/plain": [
       "<Figure size 432x288 with 1 Axes>"
      ]
     },
     "metadata": {
      "needs_background": "light"
     },
     "output_type": "display_data"
    }
   ],
   "source": [
    "plt.figure()\n",
    "plt.hist(np.array(tox_out_amine['T_Carc_I'],dtype=np.float64),10,alpha=0.8)\n",
    "plt.hist(np.array(tox_out_fluoro['T_Carc_I'],dtype=np.float64),10,alpha=0.8)\n",
    "plt.xlim([0,1])\n",
    "plt.xlabel('Carcinogenicity')\n",
    "plt.ylabel('Hist. Frequency')\n",
    "plt.title('Amine vs Fluoro Drug Compound Toxicity')\n",
    "plt.grid()\n",
    "plt.show()"
   ]
  },
  {
   "cell_type": "code",
   "execution_count": 97,
   "metadata": {},
   "outputs": [
    {
     "data": {
      "image/png": "[encoded data removed]",
      "text/plain": [
       "<PIL.PngImagePlugin.PngImageFile image mode=RGB size=700x700 at 0x12557D5F8>"
      ]
     },
     "execution_count": 97,
     "metadata": {},
     "output_type": "execute_result"
    }
   ],
   "source": [
    "n_mols = 4\n",
    "ms = [Chem.MolFromSmiles(sm) for sm in amine_smiles[:4]]\n",
    "Chem.Draw.MolsToGridImage(ms,molsPerRow=2, subImgSize=(350, 350))"
   ]
  },
  {
   "cell_type": "code",
   "execution_count": null,
   "metadata": {},
   "outputs": [],
   "source": []
  }
 ],
 "metadata": {
  "kernelspec": {
   "display_name": "Python 3",
   "language": "python",
   "name": "python3"
  },
  "language_info": {
   "codemirror_mode": {
    "name": "ipython",
    "version": 3
   },
   "file_extension": ".py",
   "mimetype": "text/x-python",
   "name": "python",
   "nbconvert_exporter": "python",
   "pygments_lexer": "ipython3",
   "version": "3.7.2"
  }
 },
 "nbformat": 4,
 "nbformat_minor": 2
}
