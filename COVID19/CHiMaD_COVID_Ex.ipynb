{
 "cells": [
  {
   "cell_type": "markdown",
   "metadata": {},
   "source": [
    "# CHiMaD Workshop: COVID-19 Example Notebook"
   ]
  },
  {
   "cell_type": "code",
   "execution_count": 1,
   "metadata": {},
   "outputs": [],
   "source": [
    "import pandas as pd\n",
    "import numpy as np\n",
    "from rdkit.Chem.Draw import IPythonConsole\n",
    "from rdkit import Chem\n",
    "import os\n",
    "from sklearn.decomposition import PCA\n",
    "import matplotlib.pyplot as plt\n",
    "from dlhub_sdk.client import DLHubClient\n",
    "from mdf_forge import Forge\n",
    "%matplotlib inline"
   ]
  },
  {
   "cell_type": "markdown",
   "metadata": {},
   "source": [
    "### Retrieving Data with MDF Forge"
   ]
  },
  {
   "cell_type": "code",
   "execution_count": 2,
   "metadata": {},
   "outputs": [
    {
     "data": {
      "text/plain": [
       "'mdf = Forge(\\'mdf-test\\')\\n\\ndataset_name = \"anl_covid19_2020\"\\nr = mdf.match_resource_types(\"record\").match_source_names(dataset_name)\\nr = r.search()\\nprint(r)'"
      ]
     },
     "execution_count": 2,
     "metadata": {},
     "output_type": "execute_result"
    }
   ],
   "source": [
    "'''mdf = Forge('mdf-test')\n",
    "\n",
    "dataset_name = \"anl_covid19_2020\"\n",
    "r = mdf.match_resource_types(\"record\").match_source_names(dataset_name)\n",
    "r = r.search()\n",
    "print(r)'''"
   ]
  },
  {
   "cell_type": "code",
   "execution_count": 3,
   "metadata": {},
   "outputs": [
    {
     "data": {
      "text/html": [
       "<div>\n",
       "<style scoped>\n",
       "    .dataframe tbody tr th:only-of-type {\n",
       "        vertical-align: middle;\n",
       "    }\n",
       "\n",
       "    .dataframe tbody tr th {\n",
       "        vertical-align: top;\n",
       "    }\n",
       "\n",
       "    .dataframe thead th {\n",
       "        text-align: right;\n",
       "    }\n",
       "</style>\n",
       "<table border=\"1\" class=\"dataframe\">\n",
       "  <thead>\n",
       "    <tr style=\"text-align: right;\">\n",
       "      <th></th>\n",
       "      <th>AATS0Z</th>\n",
       "      <th>AATS0are</th>\n",
       "      <th>AATS0d</th>\n",
       "      <th>AATS0dv</th>\n",
       "      <th>AATS0i</th>\n",
       "      <th>AATS0m</th>\n",
       "      <th>AATS0p</th>\n",
       "      <th>AATS0pe</th>\n",
       "      <th>AATS0s</th>\n",
       "      <th>AATS0se</th>\n",
       "      <th>...</th>\n",
       "      <th>piPC6</th>\n",
       "      <th>piPC7</th>\n",
       "      <th>piPC8</th>\n",
       "      <th>piPC9</th>\n",
       "      <th>pubchem_id</th>\n",
       "      <th>smiles</th>\n",
       "      <th>synonyms</th>\n",
       "      <th>tpsa</th>\n",
       "      <th>vendor</th>\n",
       "      <th>xlogp</th>\n",
       "    </tr>\n",
       "  </thead>\n",
       "  <tbody>\n",
       "    <tr>\n",
       "      <th>0</th>\n",
       "      <td>24.666667</td>\n",
       "      <td>6.479012</td>\n",
       "      <td>3.176471</td>\n",
       "      <td>8.980392</td>\n",
       "      <td>164.241022</td>\n",
       "      <td>97.495295</td>\n",
       "      <td>1.443441</td>\n",
       "      <td>6.522831</td>\n",
       "      <td>5.984749</td>\n",
       "      <td>7.964346</td>\n",
       "      <td>...</td>\n",
       "      <td>5.695834</td>\n",
       "      <td>6.047815</td>\n",
       "      <td>6.230850</td>\n",
       "      <td>6.226784</td>\n",
       "      <td>2536</td>\n",
       "      <td>CN(C(=O)COC(=O)Cc1ccc(cc1)OC(=O)c1ccc(cc1)N=C(...</td>\n",
       "      <td>[Camostat]</td>\n",
       "      <td>137.0</td>\n",
       "      <td>NaN</td>\n",
       "      <td>1.1</td>\n",
       "    </tr>\n",
       "    <tr>\n",
       "      <th>1</th>\n",
       "      <td>25.846154</td>\n",
       "      <td>6.725558</td>\n",
       "      <td>3.346154</td>\n",
       "      <td>9.307692</td>\n",
       "      <td>172.136612</td>\n",
       "      <td>102.238689</td>\n",
       "      <td>1.328398</td>\n",
       "      <td>6.735969</td>\n",
       "      <td>5.869658</td>\n",
       "      <td>8.151494</td>\n",
       "      <td>...</td>\n",
       "      <td>5.729135</td>\n",
       "      <td>6.032505</td>\n",
       "      <td>6.288142</td>\n",
       "      <td>5.851574</td>\n",
       "      <td>135413535</td>\n",
       "      <td>OCC(Cn1cnc2c1ncnc2N)O</td>\n",
       "      <td>[DHPA (S)-9-(2,3-Dihydroxypropyl)adenine]</td>\n",
       "      <td>110.0</td>\n",
       "      <td>NaN</td>\n",
       "      <td>-1.5</td>\n",
       "    </tr>\n",
       "    <tr>\n",
       "      <th>2</th>\n",
       "      <td>14.764706</td>\n",
       "      <td>5.472497</td>\n",
       "      <td>2.911765</td>\n",
       "      <td>2.529412</td>\n",
       "      <td>165.177736</td>\n",
       "      <td>57.314790</td>\n",
       "      <td>1.294520</td>\n",
       "      <td>5.556224</td>\n",
       "      <td>1.858047</td>\n",
       "      <td>7.111046</td>\n",
       "      <td>...</td>\n",
       "      <td>4.290459</td>\n",
       "      <td>4.369448</td>\n",
       "      <td>4.110874</td>\n",
       "      <td>3.218876</td>\n",
       "      <td>5071</td>\n",
       "      <td>CC(C12CC3CC(C2)CC(C1)C3)N</td>\n",
       "      <td>[Rimantadine]</td>\n",
       "      <td>26.0</td>\n",
       "      <td>NaN</td>\n",
       "      <td>2.6</td>\n",
       "    </tr>\n",
       "    <tr>\n",
       "      <th>3</th>\n",
       "      <td>33.062500</td>\n",
       "      <td>6.993072</td>\n",
       "      <td>3.125000</td>\n",
       "      <td>9.790895</td>\n",
       "      <td>170.612517</td>\n",
       "      <td>132.878373</td>\n",
       "      <td>1.537560</td>\n",
       "      <td>6.978203</td>\n",
       "      <td>8.857203</td>\n",
       "      <td>8.481970</td>\n",
       "      <td>...</td>\n",
       "      <td>4.853981</td>\n",
       "      <td>4.586242</td>\n",
       "      <td>4.762708</td>\n",
       "      <td>4.659895</td>\n",
       "      <td>54671008</td>\n",
       "      <td>OCC(Cn1ccc(nc1=O)N)OCP(=O)(O)O</td>\n",
       "      <td>[Cidofovir]</td>\n",
       "      <td>146.0</td>\n",
       "      <td>NaN</td>\n",
       "      <td>-3.6</td>\n",
       "    </tr>\n",
       "    <tr>\n",
       "      <th>4</th>\n",
       "      <td>26.000000</td>\n",
       "      <td>6.796234</td>\n",
       "      <td>3.480519</td>\n",
       "      <td>9.532468</td>\n",
       "      <td>163.885863</td>\n",
       "      <td>102.772228</td>\n",
       "      <td>1.335768</td>\n",
       "      <td>6.806935</td>\n",
       "      <td>6.737374</td>\n",
       "      <td>8.309584</td>\n",
       "      <td>...</td>\n",
       "      <td>6.249613</td>\n",
       "      <td>6.515499</td>\n",
       "      <td>6.865370</td>\n",
       "      <td>7.256540</td>\n",
       "      <td>442439</td>\n",
       "      <td>OCC1OC(Oc2cc3OC(CC(=O)c3c(c2)O)c2ccc(c(c2)O)OC...</td>\n",
       "      <td>[Neohesperidin]</td>\n",
       "      <td>234.0</td>\n",
       "      <td>NaN</td>\n",
       "      <td>-0.5</td>\n",
       "    </tr>\n",
       "  </tbody>\n",
       "</table>\n",
       "<p>5 rows × 1544 columns</p>\n",
       "</div>"
      ],
      "text/plain": [
       "      AATS0Z  AATS0are    AATS0d   AATS0dv      AATS0i      AATS0m    AATS0p  \\\n",
       "0  24.666667  6.479012  3.176471  8.980392  164.241022   97.495295  1.443441   \n",
       "1  25.846154  6.725558  3.346154  9.307692  172.136612  102.238689  1.328398   \n",
       "2  14.764706  5.472497  2.911765  2.529412  165.177736   57.314790  1.294520   \n",
       "3  33.062500  6.993072  3.125000  9.790895  170.612517  132.878373  1.537560   \n",
       "4  26.000000  6.796234  3.480519  9.532468  163.885863  102.772228  1.335768   \n",
       "\n",
       "    AATS0pe    AATS0s   AATS0se  ...       piPC6     piPC7     piPC8  \\\n",
       "0  6.522831  5.984749  7.964346  ...    5.695834  6.047815  6.230850   \n",
       "1  6.735969  5.869658  8.151494  ...    5.729135  6.032505  6.288142   \n",
       "2  5.556224  1.858047  7.111046  ...    4.290459  4.369448  4.110874   \n",
       "3  6.978203  8.857203  8.481970  ...    4.853981  4.586242  4.762708   \n",
       "4  6.806935  6.737374  8.309584  ...    6.249613  6.515499  6.865370   \n",
       "\n",
       "      piPC9  pubchem_id                                             smiles  \\\n",
       "0  6.226784        2536  CN(C(=O)COC(=O)Cc1ccc(cc1)OC(=O)c1ccc(cc1)N=C(...   \n",
       "1  5.851574   135413535                              OCC(Cn1cnc2c1ncnc2N)O   \n",
       "2  3.218876        5071                          CC(C12CC3CC(C2)CC(C1)C3)N   \n",
       "3  4.659895    54671008                     OCC(Cn1ccc(nc1=O)N)OCP(=O)(O)O   \n",
       "4  7.256540      442439  OCC1OC(Oc2cc3OC(CC(=O)c3c(c2)O)c2ccc(c(c2)O)OC...   \n",
       "\n",
       "                                    synonyms   tpsa  vendor  xlogp  \n",
       "0                                 [Camostat]  137.0     NaN    1.1  \n",
       "1  [DHPA (S)-9-(2,3-Dihydroxypropyl)adenine]  110.0     NaN   -1.5  \n",
       "2                              [Rimantadine]   26.0     NaN    2.6  \n",
       "3                                [Cidofovir]  146.0     NaN   -3.6  \n",
       "4                            [Neohesperidin]  234.0     NaN   -0.5  \n",
       "\n",
       "[5 rows x 1544 columns]"
      ]
     },
     "execution_count": 3,
     "metadata": {},
     "output_type": "execute_result"
    }
   ],
   "source": [
    "df = pd.DataFrame()\n",
    "#for i in list(sorted(os.listdir('test_all')))[:-1]:\n",
    "for i in os.listdir('test_all'):\n",
    "    if 'test' in i:\n",
    "        try:\n",
    "            tmp = pd.read_json('test_all/'+str(i),lines=True)\n",
    "            df = df.append(tmp,ignore_index=True,sort=True)\n",
    "        except:\n",
    "            pass\n",
    "df.head()"
   ]
  },
  {
   "cell_type": "markdown",
   "metadata": {},
   "source": [
    "### Generating Useful Cuts on Molecule Data"
   ]
  },
  {
   "cell_type": "code",
   "execution_count": 4,
   "metadata": {},
   "outputs": [
    {
     "name": "stdout",
     "output_type": "stream",
     "text": [
      "(316, 1024)\n",
      "(316,)\n"
     ]
    }
   ],
   "source": [
    "df_inputs = df.drop(columns=['vendor','homo','lumo','synonyms','smiles',\\\n",
    "                             'pubchem_id','xlogp','inchi','inchi_key','iupac_name'])\n",
    "df_inputs = df_inputs.apply(pd.to_numeric).dropna(axis=1)\n",
    "input_vals = np.array(df_inputs.values)\n",
    "output_vals = np.array(df['xlogp'].values)\n",
    "print(input_vals.shape)\n",
    "print(output_vals.shape)"
   ]
  },
  {
   "cell_type": "markdown",
   "metadata": {},
   "source": [
    "### Analysis of Features using PCA"
   ]
  },
  {
   "cell_type": "code",
   "execution_count": 5,
   "metadata": {},
   "outputs": [],
   "source": [
    "chem_pca = PCA(n_components=2)\n",
    "transform = chem_pca.fit_transform(input_vals[:,:500]).T"
   ]
  },
  {
   "cell_type": "code",
   "execution_count": 6,
   "metadata": {},
   "outputs": [
    {
     "data": {
      "image/png": "[encoded data removed]",
      "text/plain": [
       "<Figure size 432x288 with 2 Axes>"
      ]
     },
     "metadata": {
      "needs_background": "light"
     },
     "output_type": "display_data"
    }
   ],
   "source": [
    "plt.figure()\n",
    "plt.scatter(transform[0]/1000.,transform[1]/1000.,c=output_vals.tolist())\n",
    "plt.colorbar()\n",
    "plt.grid()\n",
    "plt.xlabel('PCA Output 1')\n",
    "plt.ylabel('PCA Output 2')\n",
    "plt.title('PCA of COVID19 Drug Molecule Features')\n",
    "plt.show()"
   ]
  },
  {
   "cell_type": "markdown",
   "metadata": {},
   "source": [
    "### Visualizing Positive Results"
   ]
  },
  {
   "cell_type": "code",
   "execution_count": 7,
   "metadata": {},
   "outputs": [
    {
     "data": {
      "image/png": "[encoded data removed]",
      "text/plain": [
       "<PIL.PngImagePlugin.PngImageFile image mode=RGB size=700x700 at 0x11A71D908>"
      ]
     },
     "execution_count": 7,
     "metadata": {},
     "output_type": "execute_result"
    }
   ],
   "source": [
    "n_mols = 4\n",
    "ms = [Chem.MolFromSmiles(sm) for sm in df['smiles'][0:n_mols]]\n",
    "Chem.Draw.MolsToGridImage(ms,molsPerRow=2, subImgSize=(350, 350))"
   ]
  },
  {
   "cell_type": "markdown",
   "metadata": {},
   "source": [
    "### Using DLHub to Run and Compare Models"
   ]
  },
  {
   "cell_type": "code",
   "execution_count": 9,
   "metadata": {},
   "outputs": [],
   "source": [
    "DL = DLHubClient()"
   ]
  },
  {
   "cell_type": "code",
   "execution_count": 10,
   "metadata": {},
   "outputs": [
    {
     "name": "stdout",
     "output_type": "stream",
     "text": [
      "CN(C(=O)COC(=O)Cc1ccc(cc1)OC(=O)c1ccc(cc1)N=C(N)N)C\n"
     ]
    }
   ],
   "source": [
    "print(df['smiles'][0])"
   ]
  },
  {
   "cell_type": "code",
   "execution_count": 12,
   "metadata": {},
   "outputs": [],
   "source": [
    "y_out_DL = DL.run(name = 'loganw_globusid/admet_tox', \\\n",
    "                  inputs=df['smiles'].tolist())"
   ]
  },
  {
   "cell_type": "markdown",
   "metadata": {},
   "source": [
    "For Reference:\n",
    "\n",
    "hERG I and II - a gene that codes for proteins controlling K-ion exchange in cell membranes\n",
    "\n",
    "AMES I - a common bacterial toxicological test\n",
    "\n",
    "Carc I - a common test for carcinogenicity (ability to cause cancer)\n",
    "\n",
    "Based on this scale: score of 1 is most toxic, score of 0 is most benign."
   ]
  },
  {
   "cell_type": "code",
   "execution_count": 24,
   "metadata": {},
   "outputs": [
    {
     "data": {
      "text/html": [
       "<div>\n",
       "<style scoped>\n",
       "    .dataframe tbody tr th:only-of-type {\n",
       "        vertical-align: middle;\n",
       "    }\n",
       "\n",
       "    .dataframe tbody tr th {\n",
       "        vertical-align: top;\n",
       "    }\n",
       "\n",
       "    .dataframe thead th {\n",
       "        text-align: right;\n",
       "    }\n",
       "</style>\n",
       "<table border=\"1\" class=\"dataframe\">\n",
       "  <thead>\n",
       "    <tr style=\"text-align: right;\">\n",
       "      <th></th>\n",
       "      <th>smiles</th>\n",
       "      <th>T_hERG_II</th>\n",
       "      <th>T_AMES_I</th>\n",
       "      <th>T_Carc_I</th>\n",
       "      <th>T_hERG_I</th>\n",
       "    </tr>\n",
       "  </thead>\n",
       "  <tbody>\n",
       "    <tr>\n",
       "      <th>0</th>\n",
       "      <td>CN(C(=O)COC(=O)Cc1ccc(cc1)OC(=O)c1ccc(cc1)N=C(...</td>\n",
       "      <td>0.3766730614546943</td>\n",
       "      <td>0.1727067306558859</td>\n",
       "      <td>0.322438834040425</td>\n",
       "      <td>0.12280826064597285</td>\n",
       "    </tr>\n",
       "    <tr>\n",
       "      <th>1</th>\n",
       "      <td>OCC(Cn1cnc2c1ncnc2N)O</td>\n",
       "      <td>0.19896779145701676</td>\n",
       "      <td>0.6015104748693273</td>\n",
       "      <td>0.13226881138619703</td>\n",
       "      <td>0.13241346970563753</td>\n",
       "    </tr>\n",
       "    <tr>\n",
       "      <th>2</th>\n",
       "      <td>CC(C12CC3CC(C2)CC(C1)C3)N</td>\n",
       "      <td>0.08067164842284695</td>\n",
       "      <td>0.3462332723716513</td>\n",
       "      <td>0.0692546979724032</td>\n",
       "      <td>0.13313487130002913</td>\n",
       "    </tr>\n",
       "    <tr>\n",
       "      <th>3</th>\n",
       "      <td>OCC(Cn1ccc(nc1=O)N)OCP(=O)(O)O</td>\n",
       "      <td>0.24052601576518745</td>\n",
       "      <td>0.09202143455196388</td>\n",
       "      <td>0.16065251954250265</td>\n",
       "      <td>0.1607802069678012</td>\n",
       "    </tr>\n",
       "    <tr>\n",
       "      <th>4</th>\n",
       "      <td>OCC1OC(Oc2cc3OC(CC(=O)c3c(c2)O)c2ccc(c(c2)O)OC...</td>\n",
       "      <td>0.28892589195747925</td>\n",
       "      <td>0.30248856165990945</td>\n",
       "      <td>0.05533363434424185</td>\n",
       "      <td>0.14345901051853016</td>\n",
       "    </tr>\n",
       "  </tbody>\n",
       "</table>\n",
       "</div>"
      ],
      "text/plain": [
       "                                              smiles            T_hERG_II  \\\n",
       "0  CN(C(=O)COC(=O)Cc1ccc(cc1)OC(=O)c1ccc(cc1)N=C(...   0.3766730614546943   \n",
       "1                              OCC(Cn1cnc2c1ncnc2N)O  0.19896779145701676   \n",
       "2                          CC(C12CC3CC(C2)CC(C1)C3)N  0.08067164842284695   \n",
       "3                     OCC(Cn1ccc(nc1=O)N)OCP(=O)(O)O  0.24052601576518745   \n",
       "4  OCC1OC(Oc2cc3OC(CC(=O)c3c(c2)O)c2ccc(c(c2)O)OC...  0.28892589195747925   \n",
       "\n",
       "              T_AMES_I             T_Carc_I             T_hERG_I  \n",
       "0   0.1727067306558859    0.322438834040425  0.12280826064597285  \n",
       "1   0.6015104748693273  0.13226881138619703  0.13241346970563753  \n",
       "2   0.3462332723716513   0.0692546979724032  0.13313487130002913  \n",
       "3  0.09202143455196388  0.16065251954250265   0.1607802069678012  \n",
       "4  0.30248856165990945  0.05533363434424185  0.14345901051853016  "
      ]
     },
     "execution_count": 24,
     "metadata": {},
     "output_type": "execute_result"
    }
   ],
   "source": [
    "tox_out = pd.DataFrame(np.array(list(y_out_DL.values())).T,columns=y_out_DL.keys())\n",
    "tox_out.head()"
   ]
  },
  {
   "cell_type": "code",
   "execution_count": 38,
   "metadata": {},
   "outputs": [
    {
     "data": {
      "image/png": "[encoded data removed]",
      "text/plain": [
       "<Figure size 432x288 with 1 Axes>"
      ]
     },
     "metadata": {
      "needs_background": "light"
     },
     "output_type": "display_data"
    }
   ],
   "source": [
    "plt.figure()\n",
    "plt.hist(np.array(tox_out['T_AMES_I'],dtype=np.float64),30,alpha=0.8)\n",
    "plt.hist(np.array(tox_out['T_Carc_I'],dtype=np.float64),30,alpha=0.8)\n",
    "plt.hist(np.array(tox_out['T_hERG_I'],dtype=np.float64),30,alpha=0.8,label='hERG')\n",
    "plt.hist(np.array(tox_out['T_hERG_II'],dtype=np.float64),30,alpha=0.8,label='hERG')\n",
    "plt.xlim([0,1])\n",
    "plt.xlabel('TOX Measurement')\n",
    "plt.ylabel('Hist. Frequency')\n",
    "plt.grid()\n",
    "plt.show()"
   ]
  },
  {
   "cell_type": "code",
   "execution_count": 40,
   "metadata": {},
   "outputs": [],
   "source": [
    "#Put in min toxicity for all TOX metrics, use RDKit to show respective molecules\n",
    "#Analysis based on structure, incorporating cuts with MDF Forge"
   ]
  },
  {
   "cell_type": "code",
   "execution_count": null,
   "metadata": {},
   "outputs": [],
   "source": []
  }
 ],
 "metadata": {
  "kernelspec": {
   "display_name": "Python 3",
   "language": "python",
   "name": "python3"
  },
  "language_info": {
   "codemirror_mode": {
    "name": "ipython",
    "version": 3
   },
   "file_extension": ".py",
   "mimetype": "text/x-python",
   "name": "python",
   "nbconvert_exporter": "python",
   "pygments_lexer": "ipython3",
   "version": "3.7.2"
  }
 },
 "nbformat": 4,
 "nbformat_minor": 2
}
